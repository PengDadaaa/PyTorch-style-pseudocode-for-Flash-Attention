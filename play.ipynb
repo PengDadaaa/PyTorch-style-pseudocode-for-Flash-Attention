{
 "cells": [
  {
   "cell_type": "code",
   "execution_count": null,
   "metadata": {},
   "outputs": [],
   "source": [
    "import torch\n",
    "\n",
    "x = torch.tensor([1.0, 2.0, 3.0, 4.0])\n",
    "x.requires_grad_()\n",
    "\n",
    "input = torch.randn((16,5,4,4))\n",
    "x = torch.tril(torch.ones(4, 4))\n",
    "input.masked_fill_(x == 0, float('-inf'))\n",
    "input"
   ]
  },
  {
   "cell_type": "code",
   "execution_count": 27,
   "metadata": {},
   "outputs": [
    {
     "name": "stdout",
     "output_type": "stream",
     "text": [
      "torch.Size([16, 5, 8, 4])\n"
     ]
    }
   ],
   "source": [
    "import os\n",
    "os.environ['CUDA_VISIBLE_DEVICES'] = '0'\n",
    "os.environ['TRITON_INTERPRET'] ='1'\n",
    "import torch\n",
    "import triton\n",
    "import triton.language as tl\n",
    "\n",
    "@triton.jit\n",
    "def add_one(input, output,stride_bs,stride_h,stride_seq,stride_d):\n",
    "    block_id = tl.program_id(0)\n",
    "    bs = 12\n",
    "    h = 3\n",
    "    offset_bsh = bs*stride_bs+h*stride_h\n",
    "    block_x = tl.make_block_ptr(\n",
    "        base= input+offset_bsh,\n",
    "        shape = (8,4),\n",
    "        strides=(stride_seq,stride_d),\n",
    "        offsets=(block_id*2,0),#block_id * block_size\n",
    "        block_shape=(2,4),\n",
    "        order=(1,0),\n",
    "    )\n",
    "    block_y = tl.make_block_ptr(\n",
    "        base= output+offset_bsh,\n",
    "        shape = (8,4),\n",
    "        strides=(stride_seq,stride_d),\n",
    "        offsets=(block_id*2,0),#block_id * block_size\n",
    "        block_shape=(2,4),\n",
    "        order=(1,0),\n",
    "    )\n",
    "\n",
    "    x = tl.load(block_x)\n",
    "    x+=1\n",
    "    tl.store(block_y, x,boundary_check=(0,1))\n",
    "\n",
    "\n",
    "x = torch.arange(32,dtype= torch.float32).reshape(8,4)[None,None,:,:].repeat(16,5,1,1).cuda()\n",
    "print(x.shape)\n",
    "y = torch.zeros((16, 5, 8, 4)).cuda()\n",
    "add_one[(2,)](x, y, 5*8*4, 8*4, 4, 1)\n"
   ]
  },
  {
   "cell_type": "code",
   "execution_count": 28,
   "metadata": {},
   "outputs": [
    {
     "data": {
      "text/plain": [
       "(tensor([[ 0.,  1.,  2.,  3.],\n",
       "         [ 4.,  5.,  6.,  7.],\n",
       "         [ 8.,  9., 10., 11.],\n",
       "         [12., 13., 14., 15.],\n",
       "         [16., 17., 18., 19.],\n",
       "         [20., 21., 22., 23.],\n",
       "         [24., 25., 26., 27.],\n",
       "         [28., 29., 30., 31.]], device='cuda:0'),\n",
       " tensor([[ 1.,  2.,  3.,  4.],\n",
       "         [ 5.,  6.,  7.,  8.],\n",
       "         [ 9., 10., 11., 12.],\n",
       "         [13., 14., 15., 16.],\n",
       "         [ 0.,  0.,  0.,  0.],\n",
       "         [ 0.,  0.,  0.,  0.],\n",
       "         [ 0.,  0.,  0.,  0.],\n",
       "         [ 0.,  0.,  0.,  0.]], device='cuda:0'))"
      ]
     },
     "execution_count": 28,
     "metadata": {},
     "output_type": "execute_result"
    }
   ],
   "source": [
    "x[12,3,:,:],y[12,3,:,:]"
   ]
  },
  {
   "cell_type": "code",
   "execution_count": 7,
   "metadata": {},
   "outputs": [
    {
     "data": {
      "text/plain": [
       "tensor(True, device='cuda:0')"
      ]
     },
     "execution_count": 7,
     "metadata": {},
     "output_type": "execute_result"
    }
   ],
   "source": [
    "torch.all(y == 0)"
   ]
  },
  {
   "cell_type": "markdown",
   "metadata": {},
   "source": [
    "$ softmax(x_i) = \\frac{e^{x_i -m}}{\\sum_{i=1}^{N}e^{x_i-m}}  $ \n",
    "\n",
    "\n",
    "R=$\n",
    "\\begin{bmatrix}\n",
    "cos\\theta & sin\\theta \\\\\n",
    "-sin \\theta & cos\\theta  \\\\\n",
    "\\end{bmatrix}\n",
    "$\n",
    "\n",
    "\n",
    "$$\n",
    "R^T = \n",
    "\\begin{bmatrix}\n",
    "\\cos \\theta & -\\sin \\theta \\\\\n",
    "\\sin \\theta & \\cos \\theta\n",
    "\\end{bmatrix}\n",
    "=\n",
    "\\begin{bmatrix}\n",
    "\\cos(-\\theta) & \\sin(-\\theta) \\\\\n",
    "-\\sin(-\\theta) & \\cos(-\\theta)\n",
    "\\end{bmatrix}\n",
    "= R(-\\theta)\n",
    "$$"
   ]
  },
  {
   "cell_type": "code",
   "execution_count": null,
   "metadata": {},
   "outputs": [],
   "source": []
  }
 ],
 "metadata": {
  "kernelspec": {
   "display_name": "wp2",
   "language": "python",
   "name": "python3"
  },
  "language_info": {
   "codemirror_mode": {
    "name": "ipython",
    "version": 3
   },
   "file_extension": ".py",
   "mimetype": "text/x-python",
   "name": "python",
   "nbconvert_exporter": "python",
   "pygments_lexer": "ipython3",
   "version": "3.10.16"
  }
 },
 "nbformat": 4,
 "nbformat_minor": 2
}
