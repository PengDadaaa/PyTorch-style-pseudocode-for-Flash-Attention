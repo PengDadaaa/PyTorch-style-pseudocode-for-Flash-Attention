{
 "cells": [
  {
   "cell_type": "markdown",
   "metadata": {},
   "source": [
    "$S = QK^T \\in \\mathbb{R}^{N\\times N}$,   \n",
    "$P = sfotmax(S)\\in \\mathbb{R}^{N\\times N}$,        \n",
    "$O =PV \\in \\mathbb{R}^{N\\times d} $      "
   ]
  },
  {
   "cell_type": "code",
   "execution_count": 51,
   "metadata": {},
   "outputs": [],
   "source": [
    "import torch\n",
    "torch.set_default_dtype(torch.float64)\n",
    "seq_len = 12\n",
    "dim = 5 # head_dim\n",
    "Q = torch.randn((seq_len, dim))\n",
    "K = torch.randn((seq_len, dim))\n",
    "V = torch.randn((seq_len, dim))\n",
    "S = torch.matmul(Q, K.transpose(0, 1))\n",
    "P = torch.softmax(S, dim=-1)\n",
    "O_ori = torch.matmul(P, V)"
   ]
  },
  {
   "cell_type": "markdown",
   "metadata": {},
   "source": [
    "前向过程    \n",
    "外层 切片q，o（保证引用），初始化m_i l_i     \n",
    "    内层切边k，v    \n",
    "        计算s    \n",
    "        计算m_ij (直接m_j与m_i取最大,m_j是当前块的)    \n",
    "        计算p_hat （e^(x-max)）    \n",
    "        更新计算 l_i     \n",
    "        更新计算 o    \n",
    "        更新mi    \n",
    "\n",
    "    记录m_i +ln^l_i     "
   ]
  },
  {
   "cell_type": "code",
   "execution_count": null,
   "metadata": {},
   "outputs": [
    {
     "data": {
      "text/plain": [
       "(True,\n",
       " tensor(6.6613e-16),\n",
       " tensor([2.4857, 2.9453, 3.6392, 4.5479, 2.4173, 8.1766, 2.5292, 3.5198, 2.6965,\n",
       "         3.8635, 2.6707, 4.4407]))"
      ]
     },
     "execution_count": 69,
     "metadata": {},
     "output_type": "execute_result"
    }
   ],
   "source": [
    "block_qo= 2\n",
    "block_kv = 3\n",
    "O = torch.zeros_like(Q)\n",
    "M = torch.zeros(seq_len) # 保存max + ln^l\n",
    "for block_idx in range(seq_len // block_qo): # 按块遍历 Q\n",
    "    q = Q[block_idx*block_qo:(block_idx+1)*block_qo, :]\n",
    "    o = O[block_idx*block_qo:(block_idx+1)*block_qo, :]\n",
    "    m_i= torch.ones(block_qo)*float('-inf')\n",
    "    l_i = torch.zeros(block_qo)\n",
    "    for block_kv_idx in range(seq_len // block_kv): # 按块遍历 K, V\n",
    "        k = K[block_kv_idx*block_kv:(block_kv_idx+1)*block_kv, :]\n",
    "        v = V[block_kv_idx*block_kv:(block_kv_idx+1)*block_kv, :]\n",
    "\n",
    "        # 求局部值\n",
    "        s =torch.matmul(q, k.transpose(0, 1))\n",
    "        m_ij = torch.maximum(torch.max(s,dim=-1)[0],m_i) \n",
    "        # torch.max 返回最大值[0]和最大值的索引[1]  ,求出包含当前处理bolck_j的局部最大值\n",
    "        P_hat = torch.exp(s - m_ij[:,None]) # exp(s - max(s))\n",
    "        l_ij = torch.sum(P_hat, dim=-1)\n",
    "        alpha = torch.exp(m_i - m_ij)\n",
    "\n",
    "        # 更新\n",
    "        o[...] = o * alpha[:,None]\n",
    "        o[...] += torch.matmul(P_hat, v)\n",
    "        l_i = alpha*l_i + l_ij # 更新\n",
    "        m_i = m_ij  #更新\n",
    "\n",
    "\n",
    "    o[:] /= l_i[:,None]\n",
    "    M[block_idx*block_qo:(block_idx+1)*block_qo] = m_i + torch.log(l_i)\n",
    "\n",
    "\n",
    "torch.allclose(O,O_ori),torch.max(O-O_ori),M"
   ]
  },
  {
   "cell_type": "code",
   "execution_count": null,
   "metadata": {},
   "outputs": [
    {
     "data": {
      "text/plain": [
       "tensor([[-12.8096,  12.9031,  15.9182,  15.9139],\n",
       "        [ -3.2148,  -4.7085, -33.2408,  11.8141],\n",
       "        [ -7.8927,  -3.8054,   4.1934,   2.7760],\n",
       "        [-10.2862,  -3.0962,  21.6827,  10.1150]])"
      ]
     },
     "execution_count": 86,
     "metadata": {},
     "output_type": "execute_result"
    }
   ],
   "source": []
  }
 ],
 "metadata": {
  "kernelspec": {
   "display_name": "wp2",
   "language": "python",
   "name": "python3"
  },
  "language_info": {
   "codemirror_mode": {
    "name": "ipython",
    "version": 3
   },
   "file_extension": ".py",
   "mimetype": "text/x-python",
   "name": "python",
   "nbconvert_exporter": "python",
   "pygments_lexer": "ipython3",
   "version": "3.10.16"
  }
 },
 "nbformat": 4,
 "nbformat_minor": 2
}
